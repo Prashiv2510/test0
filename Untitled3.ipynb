{
  "nbformat": 4,
  "nbformat_minor": 0,
  "metadata": {
    "colab": {
      "name": "Untitled3.ipynb",
      "provenance": []
    },
    "kernelspec": {
      "name": "python3",
      "display_name": "Python 3"
    },
    "language_info": {
      "name": "python"
    }
  },
  "cells": [
    {
      "cell_type": "code",
      "execution_count": null,
      "metadata": {
        "id": "CvzytdPihr7T"
      },
      "outputs": [],
      "source": [
        "import numpy as np\n",
        "import pandas as pd\n",
        "import matplotlib.pyplot as plt\n",
        "import seaborn as sns\n",
        "import numpy as np\n",
        "import tensorflow as tf\n",
        "import torch\n",
        "torch.Tensor(1)\n",
        "\n",
        "import torch\n",
        "import torch.nn.functional as F\n",
        "print(torch.__version__)\n",
        "!pip install torch-scatter torch-sparse torch-geometric -f https://data.pyg.org/whl/torch-{torch.__version__}.html\n",
        "!pip install torch-geometric-temporal\n",
        "from torch_geometric.nn import GCNConv\n",
        "from torch_geometric_temporal.nn.recurrent import A3TGCN2\n",
        "# GPU support\n",
        "DEVICE = torch.device('cuda') # cuda\n",
        "print(DEVICE)\n",
        "shuffle=True\n",
        "batch_size = 32"
      ]
    },
    {
      "cell_type": "code",
      "source": [
        "url_edge_info = \"https://raw.githubusercontent.com/wanhuaiyu/ASTGCN/master/data/PEMS08/distance.csv\"\n",
        "url_node_features = \"https://github.com/wanhuaiyu/ASTGCN/blob/master/data/PEMS08/pems08.npz\"\n",
        "edge_info = pd.read_csv(url_edge_info)\n",
        "node_features = np.load(\"data.npy\")"
      ],
      "metadata": {
        "id": "acFzAgLyuQFI"
      },
      "execution_count": null,
      "outputs": []
    },
    {
      "cell_type": "code",
      "source": [
        "edge_info"
      ],
      "metadata": {
        "colab": {
          "base_uri": "https://localhost:8080/",
          "height": 424
        },
        "id": "AMisnjidEVgx",
        "outputId": "d8d650e0-dbcf-4221-99a1-198ea2b39d9a"
      },
      "execution_count": null,
      "outputs": [
        {
          "output_type": "execute_result",
          "data": {
            "text/plain": [
              "     from   to   cost\n",
              "0       9  153  310.6\n",
              "1     153   62  330.9\n",
              "2      62  111  332.9\n",
              "3     111   11  324.2\n",
              "4      11   28  336.0\n",
              "..    ...  ...    ...\n",
              "290   154    5  166.3\n",
              "291    78  107  143.9\n",
              "292   107   46  236.3\n",
              "293   118  145  250.6\n",
              "294   145   96   85.1\n",
              "\n",
              "[295 rows x 3 columns]"
            ],
            "text/html": [
              "\n",
              "  <div id=\"df-10c64472-5580-450e-8001-df9d2cc68aff\">\n",
              "    <div class=\"colab-df-container\">\n",
              "      <div>\n",
              "<style scoped>\n",
              "    .dataframe tbody tr th:only-of-type {\n",
              "        vertical-align: middle;\n",
              "    }\n",
              "\n",
              "    .dataframe tbody tr th {\n",
              "        vertical-align: top;\n",
              "    }\n",
              "\n",
              "    .dataframe thead th {\n",
              "        text-align: right;\n",
              "    }\n",
              "</style>\n",
              "<table border=\"1\" class=\"dataframe\">\n",
              "  <thead>\n",
              "    <tr style=\"text-align: right;\">\n",
              "      <th></th>\n",
              "      <th>from</th>\n",
              "      <th>to</th>\n",
              "      <th>cost</th>\n",
              "    </tr>\n",
              "  </thead>\n",
              "  <tbody>\n",
              "    <tr>\n",
              "      <th>0</th>\n",
              "      <td>9</td>\n",
              "      <td>153</td>\n",
              "      <td>310.6</td>\n",
              "    </tr>\n",
              "    <tr>\n",
              "      <th>1</th>\n",
              "      <td>153</td>\n",
              "      <td>62</td>\n",
              "      <td>330.9</td>\n",
              "    </tr>\n",
              "    <tr>\n",
              "      <th>2</th>\n",
              "      <td>62</td>\n",
              "      <td>111</td>\n",
              "      <td>332.9</td>\n",
              "    </tr>\n",
              "    <tr>\n",
              "      <th>3</th>\n",
              "      <td>111</td>\n",
              "      <td>11</td>\n",
              "      <td>324.2</td>\n",
              "    </tr>\n",
              "    <tr>\n",
              "      <th>4</th>\n",
              "      <td>11</td>\n",
              "      <td>28</td>\n",
              "      <td>336.0</td>\n",
              "    </tr>\n",
              "    <tr>\n",
              "      <th>...</th>\n",
              "      <td>...</td>\n",
              "      <td>...</td>\n",
              "      <td>...</td>\n",
              "    </tr>\n",
              "    <tr>\n",
              "      <th>290</th>\n",
              "      <td>154</td>\n",
              "      <td>5</td>\n",
              "      <td>166.3</td>\n",
              "    </tr>\n",
              "    <tr>\n",
              "      <th>291</th>\n",
              "      <td>78</td>\n",
              "      <td>107</td>\n",
              "      <td>143.9</td>\n",
              "    </tr>\n",
              "    <tr>\n",
              "      <th>292</th>\n",
              "      <td>107</td>\n",
              "      <td>46</td>\n",
              "      <td>236.3</td>\n",
              "    </tr>\n",
              "    <tr>\n",
              "      <th>293</th>\n",
              "      <td>118</td>\n",
              "      <td>145</td>\n",
              "      <td>250.6</td>\n",
              "    </tr>\n",
              "    <tr>\n",
              "      <th>294</th>\n",
              "      <td>145</td>\n",
              "      <td>96</td>\n",
              "      <td>85.1</td>\n",
              "    </tr>\n",
              "  </tbody>\n",
              "</table>\n",
              "<p>295 rows × 3 columns</p>\n",
              "</div>\n",
              "      <button class=\"colab-df-convert\" onclick=\"convertToInteractive('df-10c64472-5580-450e-8001-df9d2cc68aff')\"\n",
              "              title=\"Convert this dataframe to an interactive table.\"\n",
              "              style=\"display:none;\">\n",
              "        \n",
              "  <svg xmlns=\"http://www.w3.org/2000/svg\" height=\"24px\"viewBox=\"0 0 24 24\"\n",
              "       width=\"24px\">\n",
              "    <path d=\"M0 0h24v24H0V0z\" fill=\"none\"/>\n",
              "    <path d=\"M18.56 5.44l.94 2.06.94-2.06 2.06-.94-2.06-.94-.94-2.06-.94 2.06-2.06.94zm-11 1L8.5 8.5l.94-2.06 2.06-.94-2.06-.94L8.5 2.5l-.94 2.06-2.06.94zm10 10l.94 2.06.94-2.06 2.06-.94-2.06-.94-.94-2.06-.94 2.06-2.06.94z\"/><path d=\"M17.41 7.96l-1.37-1.37c-.4-.4-.92-.59-1.43-.59-.52 0-1.04.2-1.43.59L10.3 9.45l-7.72 7.72c-.78.78-.78 2.05 0 2.83L4 21.41c.39.39.9.59 1.41.59.51 0 1.02-.2 1.41-.59l7.78-7.78 2.81-2.81c.8-.78.8-2.07 0-2.86zM5.41 20L4 18.59l7.72-7.72 1.47 1.35L5.41 20z\"/>\n",
              "  </svg>\n",
              "      </button>\n",
              "      \n",
              "  <style>\n",
              "    .colab-df-container {\n",
              "      display:flex;\n",
              "      flex-wrap:wrap;\n",
              "      gap: 12px;\n",
              "    }\n",
              "\n",
              "    .colab-df-convert {\n",
              "      background-color: #E8F0FE;\n",
              "      border: none;\n",
              "      border-radius: 50%;\n",
              "      cursor: pointer;\n",
              "      display: none;\n",
              "      fill: #1967D2;\n",
              "      height: 32px;\n",
              "      padding: 0 0 0 0;\n",
              "      width: 32px;\n",
              "    }\n",
              "\n",
              "    .colab-df-convert:hover {\n",
              "      background-color: #E2EBFA;\n",
              "      box-shadow: 0px 1px 2px rgba(60, 64, 67, 0.3), 0px 1px 3px 1px rgba(60, 64, 67, 0.15);\n",
              "      fill: #174EA6;\n",
              "    }\n",
              "\n",
              "    [theme=dark] .colab-df-convert {\n",
              "      background-color: #3B4455;\n",
              "      fill: #D2E3FC;\n",
              "    }\n",
              "\n",
              "    [theme=dark] .colab-df-convert:hover {\n",
              "      background-color: #434B5C;\n",
              "      box-shadow: 0px 1px 3px 1px rgba(0, 0, 0, 0.15);\n",
              "      filter: drop-shadow(0px 1px 2px rgba(0, 0, 0, 0.3));\n",
              "      fill: #FFFFFF;\n",
              "    }\n",
              "  </style>\n",
              "\n",
              "      <script>\n",
              "        const buttonEl =\n",
              "          document.querySelector('#df-10c64472-5580-450e-8001-df9d2cc68aff button.colab-df-convert');\n",
              "        buttonEl.style.display =\n",
              "          google.colab.kernel.accessAllowed ? 'block' : 'none';\n",
              "\n",
              "        async function convertToInteractive(key) {\n",
              "          const element = document.querySelector('#df-10c64472-5580-450e-8001-df9d2cc68aff');\n",
              "          const dataTable =\n",
              "            await google.colab.kernel.invokeFunction('convertToInteractive',\n",
              "                                                     [key], {});\n",
              "          if (!dataTable) return;\n",
              "\n",
              "          const docLinkHtml = 'Like what you see? Visit the ' +\n",
              "            '<a target=\"_blank\" href=https://colab.research.google.com/notebooks/data_table.ipynb>data table notebook</a>'\n",
              "            + ' to learn more about interactive tables.';\n",
              "          element.innerHTML = '';\n",
              "          dataTable['output_type'] = 'display_data';\n",
              "          await google.colab.output.renderOutput(dataTable, element);\n",
              "          const docLink = document.createElement('div');\n",
              "          docLink.innerHTML = docLinkHtml;\n",
              "          element.appendChild(docLink);\n",
              "        }\n",
              "      </script>\n",
              "    </div>\n",
              "  </div>\n",
              "  "
            ]
          },
          "metadata": {},
          "execution_count": 36
        }
      ]
    },
    {
      "cell_type": "code",
      "source": [
        "node_features"
      ],
      "metadata": {
        "id": "pq5fZGRUEX4B"
      },
      "execution_count": null,
      "outputs": []
    },
    {
      "cell_type": "code",
      "source": [
        "A = np.zeros((170, 170),dtype=np.float32)\n",
        "distanceA = np.zeros((170, 170), dtype=np.float32)\n",
        "for index, row in edge_info.iterrows():\n",
        "    i = int(row[\"from\"])\n",
        "    j = int(row['to'])\n",
        "    distance = row['cost']\n",
        "    A[i, j] = 1\n",
        "    distanceA[i][j] = distance"
      ],
      "metadata": {
        "id": "GZxhD2qYxdYe"
      },
      "execution_count": null,
      "outputs": []
    },
    {
      "cell_type": "code",
      "source": [
        "node_features.shape"
      ],
      "metadata": {
        "colab": {
          "base_uri": "https://localhost:8080/"
        },
        "id": "RVs3pNMI5gTF",
        "outputId": "928718cf-da95-4e14-ac3a-81b574d77971"
      },
      "execution_count": null,
      "outputs": [
        {
          "output_type": "execute_result",
          "data": {
            "text/plain": [
              "(17856, 170, 3)"
            ]
          },
          "metadata": {},
          "execution_count": 9
        }
      ]
    },
    {
      "cell_type": "code",
      "source": [
        "import matplotlib.pyplot as plt\n",
        "import networkx as nx\n",
        "\n",
        "def show_graph_with_labels(A):\n",
        "    rows, cols = np.where(A == 1)\n",
        "    edges = zip(rows.tolist(), cols.tolist())\n",
        "    gr = nx.Graph()\n",
        "    gr.add_edges_from(edges)\n",
        "    nx.draw(gr, node_size=170)\n",
        "    plt.show()\n",
        "\n",
        "show_graph_with_labels(A)\n"
      ],
      "metadata": {
        "colab": {
          "base_uri": "https://localhost:8080/",
          "height": 319
        },
        "id": "wj1YnTieJ869",
        "outputId": "dcd1e2f2-ab32-43ec-e60b-e0194673e714"
      },
      "execution_count": null,
      "outputs": [
        {
          "output_type": "display_data",
          "data": {
            "text/plain": [
              "<Figure size 432x288 with 1 Axes>"
            ],
            "image/png": "[encoded data removed]"
          },
          "metadata": {}
        }
      ]
    },
    {
      "cell_type": "code",
      "source": [
        "!pip install StaticGraphTemporalSignal\n",
        "import StaticGraphTemporalSignal\n",
        "\n",
        "class METRLADatasetLoader(object):\n",
        "    def _read_web_data(self):\n",
        "        url = \"https://graphmining.ai/temporal_datasets/METR-LA.zip\"\n",
        "        url_edge_info = \"https://raw.githubusercontent.com/wanhuaiyu/ASTGCN/master/data/PEMS08/distance.csv\"\n",
        "        url_node_features = \"https://github.com/wanhuaiyu/ASTGCN/blob/master/data/PEMS08/pems08.npz\"\n",
        "        edge_info = pd.read_csv(url_edge_info)\n",
        "        X = np.load(\"data.npy\").transpose(1, 2, 0)\n",
        "        A = np.zeros((170, 170),dtype=np.float32)\n",
        "        distanceA = np.zeros((170, 170), dtype=np.float32)\n",
        "        for index, row in edge_info.iterrows():\n",
        "            i = int(row[\"from\"])\n",
        "            j = int(row['to'])\n",
        "            distance = row['cost']\n",
        "            A[i, j] = 1\n",
        "            distanceA[i][j] = distance\n",
        "        X = X.astype(np.float32)\n",
        "\n",
        "        # Normalise as in DCRNN paper (via Z-Score Method)\n",
        "        means = np.mean(X, axis=(0, 2))\n",
        "        X = X - means.reshape(1, -1, 1)\n",
        "        stds = np.std(X, axis=(0, 2))\n",
        "        X = X / stds.reshape(1, -1, 1)\n",
        "\n",
        "        self.A = torch.from_numpy(A)\n",
        "        self.X = torch.from_numpy(X)\n",
        "\n",
        "    def _get_edges_and_weights(self):\n",
        "        edge_indices, values = dense_to_sparse(self.A)\n",
        "        edge_indices = edge_indices.numpy()\n",
        "        values = values.numpy()\n",
        "        self.edges = edge_indices\n",
        "        self.edge_weights = values\n",
        "\n",
        "    def _generate_task(self, num_timesteps_in: int = 12, num_timesteps_out: int = 12):\n",
        "        indices = [\n",
        "            (i, i + (num_timesteps_in + num_timesteps_out))\n",
        "            for i in range(self.X.shape[2] - (num_timesteps_in + num_timesteps_out) + 1)\n",
        "        ]\n",
        "\n",
        "        # Generate observations\n",
        "        features, target = [], []\n",
        "        for i, j in indices:\n",
        "            features.append((self.X[:, :, i : i + num_timesteps_in]).numpy())\n",
        "            target.append((self.X[:, 0, i + num_timesteps_in : j]).numpy())\n",
        "\n",
        "        self.features = features\n",
        "        self.targets = target\n",
        "    def get_dataset(\n",
        "        self, num_timesteps_in: int = 12, num_timesteps_out: int = 12\n",
        "    ) -> StaticGraphTemporalSignal:\n",
        "        \"\"\"Returns data iterator for METR-LA dataset as an instance of the\n",
        "        static graph temporal signal class.\n",
        "\n",
        "        Return types:\n",
        "            * **dataset** *(StaticGraphTemporalSignal)* - The METR-LA traffic\n",
        "                forecasting dataset.\n",
        "        \"\"\"\n",
        "        self._get_edges_and_weights()\n",
        "        self._generate_task(num_timesteps_in, num_timesteps_out)\n",
        "        dataset = StaticGraphTemporalSignal(\n",
        "            self.edges, self.edge_weights, self.features, self.targets\n",
        "        )\n",
        "        return dataset"
      ],
      "metadata": {
        "colab": {
          "base_uri": "https://localhost:8080/",
          "height": 411
        },
        "id": "z20Mn1Kg4ymB",
        "outputId": "881d1449-32f1-408b-cbef-a387bead0a1e"
      },
      "execution_count": null,
      "outputs": [
        {
          "output_type": "stream",
          "name": "stdout",
          "text": [
            "\u001b[31mERROR: Could not find a version that satisfies the requirement StaticGraphTemporalSignal (from versions: none)\u001b[0m\n",
            "\u001b[31mERROR: No matching distribution found for StaticGraphTemporalSignal\u001b[0m\n"
          ]
        },
        {
          "output_type": "error",
          "ename": "ModuleNotFoundError",
          "evalue": "ignored",
          "traceback": [
            "\u001b[0;31m---------------------------------------------------------------------------\u001b[0m",
            "\u001b[0;31mModuleNotFoundError\u001b[0m                       Traceback (most recent call last)",
            "\u001b[0;32m<ipython-input-26-90fc535813ce>\u001b[0m in \u001b[0;36m<module>\u001b[0;34m()\u001b[0m\n\u001b[1;32m      1\u001b[0m \u001b[0mget_ipython\u001b[0m\u001b[0;34m(\u001b[0m\u001b[0;34m)\u001b[0m\u001b[0;34m.\u001b[0m\u001b[0msystem\u001b[0m\u001b[0;34m(\u001b[0m\u001b[0;34m'pip install StaticGraphTemporalSignal'\u001b[0m\u001b[0;34m)\u001b[0m\u001b[0;34m\u001b[0m\u001b[0;34m\u001b[0m\u001b[0m\n\u001b[0;32m----> 2\u001b[0;31m \u001b[0;32mimport\u001b[0m \u001b[0mStaticGraphTemporalSignal\u001b[0m\u001b[0;34m\u001b[0m\u001b[0;34m\u001b[0m\u001b[0m\n\u001b[0m\u001b[1;32m      3\u001b[0m \u001b[0;34m\u001b[0m\u001b[0m\n\u001b[1;32m      4\u001b[0m \u001b[0;32mclass\u001b[0m \u001b[0mMETRLADatasetLoader\u001b[0m\u001b[0;34m(\u001b[0m\u001b[0mobject\u001b[0m\u001b[0;34m)\u001b[0m\u001b[0;34m:\u001b[0m\u001b[0;34m\u001b[0m\u001b[0;34m\u001b[0m\u001b[0m\n\u001b[1;32m      5\u001b[0m     \u001b[0;32mdef\u001b[0m \u001b[0m_read_web_data\u001b[0m\u001b[0;34m(\u001b[0m\u001b[0mself\u001b[0m\u001b[0;34m)\u001b[0m\u001b[0;34m:\u001b[0m\u001b[0;34m\u001b[0m\u001b[0;34m\u001b[0m\u001b[0m\n",
            "\u001b[0;31mModuleNotFoundError\u001b[0m: No module named 'StaticGraphTemporalSignal'",
            "",
            "\u001b[0;31m---------------------------------------------------------------------------\u001b[0;32m\nNOTE: If your import is failing due to a missing package, you can\nmanually install dependencies using either !pip or !apt.\n\nTo view examples of installing some common dependencies, click the\n\"Open Examples\" button below.\n\u001b[0;31m---------------------------------------------------------------------------\u001b[0m\n"
          ],
          "errorDetails": {
            "actions": [
              {
                "action": "open_url",
                "actionText": "Open Examples",
                "url": "/notebooks/snippets/importing_libraries.ipynb"
              }
            ]
          }
        }
      ]
    },
    {
      "cell_type": "code",
      "source": [
        "from torch_geometric_temporal.dataset import METRLADatasetLoader\n",
        "loader = METRLADatasetLoader()\n",
        "dataset = loader.get_dataset(num_timesteps_in=12, num_timesteps_out=12)\n",
        "print(\"Dataset type:  \", dataset)\n",
        "print(\"Number of samples / sequences: \",  len(set(dataset)))"
      ],
      "metadata": {
        "colab": {
          "base_uri": "https://localhost:8080/"
        },
        "id": "KZI1T931hu-J",
        "outputId": "cf7c81c4-d843-484f-85db-20905eeafca9"
      },
      "execution_count": null,
      "outputs": [
        {
          "output_type": "stream",
          "name": "stdout",
          "text": [
            "Dataset type:   <torch_geometric_temporal.signal.static_graph_temporal_signal.StaticGraphTemporalSignal object at 0x7fa1ba82a4d0>\n",
            "Number of samples / sequences:  34249\n"
          ]
        }
      ]
    },
    {
      "cell_type": "code",
      "source": [
        "from torch_geometric_temporal.signal import temporal_signal_split\n",
        "train_dataset, test_dataset = temporal_signal_split(dataset, train_ratio=0.8)"
      ],
      "metadata": {
        "id": "QomMKdwSF0EZ"
      },
      "execution_count": null,
      "outputs": []
    },
    {
      "cell_type": "code",
      "source": [
        "train_input = np.array(train_dataset.features)\n",
        "train_target = np.array(train_dataset.targets)\n",
        "train_input_tensor = torch.from_numpy(train_input)\n",
        "train_target_tensor = torch.from_numpy(train_target)\n",
        "train_dataset_new = torch.utils.data.TensorDataset(train_input_tensor, train_target_tensor)\n",
        "train_loader = torch.utils.data.DataLoader(train_dataset_new, batch_size=batch_size, shuffle=shuffle,drop_last=True)"
      ],
      "metadata": {
        "id": "DWW8vGnNK-jT"
      },
      "execution_count": null,
      "outputs": []
    },
    {
      "cell_type": "code",
      "source": [
        "test_input = np.array(test_dataset.features)\n",
        "test_target = np.array(test_dataset.targets)\n",
        "test_input_tensor = torch.from_numpy(test_input)\n",
        "test_target_tensor = torch.from_numpy(test_target)\n",
        "test_dataset_new = torch.utils.data.TensorDataset(test_input_tensor, test_target_tensor)\n",
        "test_loader = torch.utils.data.DataLoader(test_dataset_new, batch_size=batch_size, shuffle=shuffle,drop_last=True)"
      ],
      "metadata": {
        "id": "5pqyneRxLQj7"
      },
      "execution_count": null,
      "outputs": []
    },
    {
      "cell_type": "code",
      "source": [
        "class TemporalGNN(torch.nn.Module):\n",
        "    def __init__(self, node_features, periods, batch_size):\n",
        "        super(TemporalGNN, self).__init__()\n",
        "        # Attention Temporal Graph Convolutional Cell\n",
        "        self.tgnn = A3TGCN2(in_channels=node_features,  out_channels=32, periods=periods,batch_size=batch_size) # node_features=2, periods=12\n",
        "        # Equals single-shot prediction\n",
        "        self.linear = torch.nn.Linear(32, periods)\n",
        "\n",
        "    def forward(self, x, edge_index):\n",
        "        \"\"\"\n",
        "        x = Node features for T time steps\n",
        "        edge_index = Graph edge indices\n",
        "        \"\"\"\n",
        "        h = self.tgnn(x, edge_index) # x [b, 207, 2, 12]  returns h [b, 207, 12]\n",
        "        h = F.relu(h) \n",
        "        h = self.linear(h)\n",
        "        return h\n",
        "\n",
        "TemporalGNN(node_features=2, periods=12, batch_size=2)"
      ],
      "metadata": {
        "colab": {
          "base_uri": "https://localhost:8080/"
        },
        "id": "zdMtQHSUlOvs",
        "outputId": "ef2950a2-14cc-4a4a-ab53-18b46327fe6f"
      },
      "execution_count": null,
      "outputs": [
        {
          "output_type": "execute_result",
          "data": {
            "text/plain": [
              "TemporalGNN(\n",
              "  (tgnn): A3TGCN2(\n",
              "    (_base_tgcn): TGCN2(\n",
              "      (conv_z): GCNConv(2, 32)\n",
              "      (linear_z): Linear(in_features=64, out_features=32, bias=True)\n",
              "      (conv_r): GCNConv(2, 32)\n",
              "      (linear_r): Linear(in_features=64, out_features=32, bias=True)\n",
              "      (conv_h): GCNConv(2, 32)\n",
              "      (linear_h): Linear(in_features=64, out_features=32, bias=True)\n",
              "    )\n",
              "  )\n",
              "  (linear): Linear(in_features=32, out_features=12, bias=True)\n",
              ")"
            ]
          },
          "metadata": {},
          "execution_count": 31
        }
      ]
    },
    {
      "cell_type": "code",
      "source": [
        "model = TemporalGNN(node_features=2, periods=12, batch_size=batch_size)\n",
        "optimizer = torch.optim.Adam(model.parameters(), lr=0.001)\n",
        "loss_fn = torch.nn.MSELoss()\n",
        "\n",
        "\n",
        "print('Net\\'s state_dict:')\n",
        "total_param = 0\n",
        "for param_tensor in model.state_dict():\n",
        "    print(param_tensor, '\\t', model.state_dict()[param_tensor].size())\n",
        "    total_param += np.prod(model.state_dict()[param_tensor].size())\n",
        "print('Net\\'s total params:', total_param)\n",
        "#--------------------------------------------------\n",
        "print('Optimizer\\'s state_dict:')  # If you notice here the Attention is a trainable parameter\n",
        "for var_name in optimizer.state_dict():\n",
        "    print(var_name, '\\t', optimizer.state_dict()[var_name])"
      ],
      "metadata": {
        "colab": {
          "base_uri": "https://localhost:8080/"
        },
        "id": "Tqp8dCN_3G_m",
        "outputId": "80ae4093-e502-401f-b2dc-f496eda06662"
      },
      "execution_count": null,
      "outputs": [
        {
          "output_type": "stream",
          "name": "stdout",
          "text": [
            "Net's state_dict:\n",
            "tgnn._attention \t torch.Size([12])\n",
            "tgnn._base_tgcn.conv_z.bias \t torch.Size([32])\n",
            "tgnn._base_tgcn.conv_z.lin.weight \t torch.Size([32, 2])\n",
            "tgnn._base_tgcn.linear_z.weight \t torch.Size([32, 64])\n",
            "tgnn._base_tgcn.linear_z.bias \t torch.Size([32])\n",
            "tgnn._base_tgcn.conv_r.bias \t torch.Size([32])\n",
            "tgnn._base_tgcn.conv_r.lin.weight \t torch.Size([32, 2])\n",
            "tgnn._base_tgcn.linear_r.weight \t torch.Size([32, 64])\n",
            "tgnn._base_tgcn.linear_r.bias \t torch.Size([32])\n",
            "tgnn._base_tgcn.conv_h.bias \t torch.Size([32])\n",
            "tgnn._base_tgcn.conv_h.lin.weight \t torch.Size([32, 2])\n",
            "tgnn._base_tgcn.linear_h.weight \t torch.Size([32, 64])\n",
            "tgnn._base_tgcn.linear_h.bias \t torch.Size([32])\n",
            "linear.weight \t torch.Size([12, 32])\n",
            "linear.bias \t torch.Size([12])\n",
            "Net's total params: 6936\n",
            "Optimizer's state_dict:\n",
            "state \t {}\n",
            "param_groups \t [{'lr': 0.001, 'betas': (0.9, 0.999), 'eps': 1e-08, 'weight_decay': 0, 'amsgrad': False, 'maximize': False, 'params': [0, 1, 2, 3, 4, 5, 6, 7, 8, 9, 10, 11, 12, 13, 14]}]\n"
          ]
        }
      ]
    },
    {
      "cell_type": "code",
      "source": [
        "for snapshot in train_dataset:\n",
        "    static_edge_index = snapshot.edge_index\n",
        "    break;\n",
        "\n",
        "\n",
        "\n",
        "# Training the model \n",
        "model.train()\n",
        "\n",
        "for epoch in range(5):\n",
        "    step = 0\n",
        "    loss_list = []\n",
        "    for encoder_inputs, labels in train_loader:\n",
        "        y_hat = model(encoder_inputs, static_edge_index)         # Get model predictions\n",
        "        loss = loss_fn(y_hat, labels) # Mean squared error #loss = torch.mean((y_hat-labels)**2)  sqrt to change it to rmse\n",
        "        loss.backward()\n",
        "        optimizer.step()\n",
        "        optimizer.zero_grad()\n",
        "        step= step+ 1\n",
        "        loss_list.append(loss.item())\n",
        "        if step % 100 == 0 :\n",
        "            print(sum(loss_list)/len(loss_list))\n",
        "    print(\"Epoch {} train RMSE: {:.4f}\".format(epoch, sum(loss_list)/len(loss_list)))"
      ],
      "metadata": {
        "colab": {
          "base_uri": "https://localhost:8080/"
        },
        "id": "TH4Tg5zN3K1O",
        "outputId": "2e9b7884-e2ba-4f21-8ce4-f2bf267dca0c"
      },
      "execution_count": null,
      "outputs": [
        {
          "output_type": "stream",
          "name": "stdout",
          "text": [
            "0.45059197962284087\n",
            "0.4524831064045429\n",
            "0.4526292758186658\n",
            "0.45173954881727696\n",
            "0.4537832381129265\n",
            "0.45598050110042093\n",
            "0.45553136499864716\n",
            "0.4538990800641477\n",
            "Epoch 0 train RMSE: 0.4538\n",
            "0.45214205533266066\n",
            "0.45130804270505903\n",
            "0.44528337319691974\n",
            "0.4507268238812685\n",
            "0.45258408296108243\n",
            "0.4503465539713701\n",
            "0.450626080930233\n"
          ]
        }
      ]
    },
    {
      "cell_type": "code",
      "source": [
        "## Evaluation\n",
        "\n",
        "#- Lets get some sample predictions for a specific horizon (e.g. 288/12 = 24 hours)\n",
        "#- The model always gets one hour and needs to predict the next hour\n",
        "\n",
        "model.eval()\n",
        "step = 0\n",
        "# Store for analysis\n",
        "total_loss = []\n",
        "for encoder_inputs, labels in test_loader:\n",
        "    # Get model predictions\n",
        "    y_hat = model(encoder_inputs, static_edge_index)\n",
        "    # Mean squared error\n",
        "    loss = loss_fn(y_hat, labels)\n",
        "    total_loss.append(loss.item())\n",
        "    # Store for analysis below\n",
        "    #test_labels.append(labels)\n",
        "    #predictions.append(y_hat)\n",
        "    \n",
        "\n",
        "print(\"Test MSE: {:.4f}\".format(sum(total_loss)/len(total_loss)))\n"
      ],
      "metadata": {
        "colab": {
          "base_uri": "https://localhost:8080/"
        },
        "id": "7ndYRRlV3Nli",
        "outputId": "1647fff2-691c-45c5-d2d8-bd80059fc807"
      },
      "execution_count": null,
      "outputs": [
        {
          "output_type": "stream",
          "name": "stdout",
          "text": [
            "Test MSE: 0.5788\n"
          ]
        }
      ]
    },
    {
      "cell_type": "code",
      "source": [
        "### Visualization\n",
        "\n",
        "#- The further away the point in time is, the worse the predictions get\n",
        "#- Predictions shape: [num_data_points, num_sensors, num_timesteps]\n",
        "\n",
        "\n",
        "sensor = 123\n",
        "timestep = 11 \n",
        "preds = np.asarray([pred[sensor][timestep].detach().cpu().numpy() for pred in y_hat])\n",
        "labs  = np.asarray([label[sensor][timestep].cpu().numpy() for label in labels])\n",
        "print(\"Data points:,\", preds.shape)\n",
        "\n",
        "plt.figure(figsize=(20,5))\n",
        "sns.lineplot(data=preds, label=\"pred\")\n",
        "sns.lineplot(data=labs, label=\"true\")"
      ],
      "metadata": {
        "colab": {
          "base_uri": "https://localhost:8080/",
          "height": 355
        },
        "id": "rM0tTA9G3ONP",
        "outputId": "a4e10358-8911-4a4f-d353-a1aa3bf5e6c4"
      },
      "execution_count": null,
      "outputs": [
        {
          "output_type": "stream",
          "name": "stdout",
          "text": [
            "Data points:, (32,)\n"
          ]
        },
        {
          "output_type": "execute_result",
          "data": {
            "text/plain": [
              "<matplotlib.axes._subplots.AxesSubplot at 0x7fa1ba9c7050>"
            ]
          },
          "metadata": {},
          "execution_count": 35
        },
        {
          "output_type": "display_data",
          "data": {
            "text/plain": [
              "<Figure size 1440x360 with 1 Axes>"
            ],
            "image/png": "[encoded data removed]"
          },
          "metadata": {
            "needs_background": "light"
          }
        }
      ]
    },
    {
      "cell_type": "code",
      "source": [
        ""
      ],
      "metadata": {
        "id": "lpND8Op2DKM-"
      },
      "execution_count": null,
      "outputs": []
    }
  ]
}